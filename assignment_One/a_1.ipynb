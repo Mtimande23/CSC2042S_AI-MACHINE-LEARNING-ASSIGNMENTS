{
 "cells": [
  {
   "cell_type": "code",
   "execution_count": 2,
   "id": "f5ea0843-59c3-4de4-ad26-e1a7ef1b5e7b",
   "metadata": {},
   "outputs": [
    {
     "name": "stdout",
     "output_type": "stream",
     "text": [
      "Index(['Country Name', 'Country Code', 'Indicator Name', 'Indicator Code',\n",
      "       '1960', '1961', '1962', '1963', '1964', '1965', '1966', '1967', '1968',\n",
      "       '1969', '1970', '1971', '1972', '1973', '1974', '1975', '1976', '1977',\n",
      "       '1978', '1979', '1980', '1981', '1982', '1983', '1984', '1985', '1986',\n",
      "       '1987', '1988', '1989', '1990', '1991', '1992', '1993', '1994', '1995',\n",
      "       '1996', '1997', '1998', '1999', '2000', '2001', '2002', '2003', '2004',\n",
      "       '2005', '2006', '2007', '2008', '2009', '2010', '2011', '2012', '2013',\n",
      "       '2014', '2015', '2016', '2017', '2018', '2019', '2020', '2021', '2022',\n",
      "       '2023', '2024'],\n",
      "      dtype='object')\n",
      "403256\n",
      "optimum row Threshold is 0.5 and col Threshold is 0.5 .\n",
      "valid  number of rows: 138658  and valid number of cols: 68\n",
      "68789\n",
      "68\n",
      "Index(['Country Name', 'Country Code', 'Indicator Name', 'Indicator Code',\n",
      "       '1960', '1961', '1962', '1963', '1964', '1965', '1966', '1967', '1968',\n",
      "       '1969', '1970', '1971', '1972', '1973', '1974', '1975', '1976', '1977',\n",
      "       '1978', '1979', '1980', '1981', '1982', '1983', '1984', '1985', '1986',\n",
      "       '1987', '1988', '1989', '1990', '1991', '1992', '1993', '1994', '1995',\n",
      "       '1996', '1997', '1998', '1999', '2000', '2001', '2002', '2003', '2004',\n",
      "       '2005', '2006', '2007', '2008', '2009', '2010', '2011', '2012', '2013',\n",
      "       '2014', '2015', '2016', '2017', '2018', '2019', '2020', '2021', '2022',\n",
      "       '2023'],\n",
      "      dtype='object')\n"
     ]
    }
   ],
   "source": [
    "#Cell deals with loading data and filtering(data preprocessing)\n",
    "import pandas as pd\n",
    "world_data = pd.read_csv('WDICSV.csv')\n",
    "opt_rows=-1\n",
    "opt_cols=-1\n",
    "thresh_Row=0\n",
    "thresh_Col=0\n",
    "print(world_data.columns)\n",
    "print(len(world_data))#wanted to check how many columns are there\n",
    "\n",
    "#nested for-loop to check for the best thresholds which maximise the number of rows(countries) and the amount of features(indicators)\n",
    "for row_thresh in [0.5,0.6,0.7,0.8]:#mixed the sequence to see if its actually checking each index\n",
    "    for col_thresh in [0.8,0.7,0.6,0.5]:\n",
    "        \n",
    "        valid_rows = world_data.notna().sum(axis=1) >= row_thresh * world_data.shape[1]\n",
    "        filtered_rows = world_data.loc[valid_rows, :]\n",
    "        \n",
    "        valid_cols = filtered_rows.notna().sum(axis=0) >= col_thresh * len(filtered_rows)#since rows already optimized, we can find the optimum features\n",
    "        filtered_data = filtered_rows.loc[:,valid_cols]\n",
    "        \n",
    "        # Count valid rows and cols\n",
    "        num_valid_rows = filtered_data.shape[0]\n",
    "        num_valid_cols = filtered_data.shape[1]\n",
    "\n",
    "        # Update optimal thresholds\n",
    "        if num_valid_rows > opt_rows:\n",
    "            opt_rows = num_valid_rows\n",
    "            thresh_Row = row_thresh\n",
    "        if num_valid_cols > opt_cols:\n",
    "            opt_cols = num_valid_cols\n",
    "            thresh_Col = col_thresh\n",
    "\n",
    "print(\"optimum row Threshold is\",thresh_Row,\"and col Threshold is\",thresh_Col,\".\")\n",
    "print(\"valid  number of rows:\", opt_rows, \" and valid number of cols:\", opt_cols)\n",
    "print(len(filtered_data))\n",
    "print(len(filtered_data.columns))\n",
    "print(filtered_data.columns)\n",
    "filtered_data.to_csv(\"filtered.csv\",index=False)#sends filtered data to separate csv for verification.\n",
    "\n",
    "        "
   ]
  },
  {
   "cell_type": "code",
   "execution_count": null,
   "id": "191b0444-d991-4a2a-be18-fad99077b98c",
   "metadata": {},
   "outputs": [],
   "source": []
  }
 ],
 "metadata": {
  "kernelspec": {
   "display_name": "Python 3 (ipykernel)",
   "language": "python",
   "name": "python3"
  },
  "language_info": {
   "codemirror_mode": {
    "name": "ipython",
    "version": 3
   },
   "file_extension": ".py",
   "mimetype": "text/x-python",
   "name": "python",
   "nbconvert_exporter": "python",
   "pygments_lexer": "ipython3",
   "version": "3.13.5"
  }
 },
 "nbformat": 4,
 "nbformat_minor": 5
}
